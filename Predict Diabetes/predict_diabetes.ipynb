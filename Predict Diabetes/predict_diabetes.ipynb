{
 "cells": [
  {
   "cell_type": "markdown",
   "metadata": {},
   "source": [
    "# Applied Machine Learning - Predict Diabetes",
    "## Predict whether the patient has diabetes or not.\n"
     ]
  },
  {
   "cell_type": "markdown",
   "metadata": {},
   "source": [
    "**Importing Libraries**"
   ]
  },
  {
   "cell_type": "code",
   "execution_count": 1,
   "metadata": {},
   "outputs": [],
   "source": [
    "import numpy as np\n",
    "import pandas as pd\n",
    "import seaborn as sns # for data visualization\n",
    "import matplotlib.pyplot as plt # for data visualization\n",
    "%matplotlib inline\n",
    "import tensorflow as tf"
   ]
  },
  {
   "cell_type": "markdown",
   "metadata": {},
   "source": [
    "**1. Import the dataset (https://raw.githubusercontent.com/jbrownlee/Datasets/master/pima-indians-diabetes.data.csv)**"
   ]
  },
  {
   "cell_type": "markdown",
   "metadata": {},
   "source": [
    "For Each Attribute: (all numeric-valued)\n",
    "   1. Number of times pregnant\n",
    "   2. Plasma glucose concentration a 2 hours in an oral glucose tolerance test\n",
    "   3. Diastolic blood pressure (mm Hg)\n",
    "   4. Triceps skin fold thickness (mm)\n",
    "   5. 2-Hour serum insulin (mu U/ml)\n",
    "   6. Body mass index (weight in kg/(height in m)^2)\n",
    "   7. Diabetes pedigree function\n",
    "   8. Age (years)\n",
    "   9. Class variable (0 or 1)"
   ]
  },
  {
   "cell_type": "code",
   "execution_count": 2,
   "metadata": {},
   "outputs": [
    {
     "data": {
      "text/html": [
       "<div>\n",
       "<style scoped>\n",
       "    .dataframe tbody tr th:only-of-type {\n",
       "        vertical-align: middle;\n",
       "    }\n",
       "\n",
       "    .dataframe tbody tr th {\n",
       "        vertical-align: top;\n",
       "    }\n",
       "\n",
       "    .dataframe thead th {\n",
       "        text-align: right;\n",
       "    }\n",
       "</style>\n",
       "<table border=\"1\" class=\"dataframe\">\n",
       "  <thead>\n",
       "    <tr style=\"text-align: right;\">\n",
       "      <th></th>\n",
       "      <th>Pregnancies</th>\n",
       "      <th>Glucose</th>\n",
       "      <th>BloodPressure</th>\n",
       "      <th>SkinThickness</th>\n",
       "      <th>Insulin</th>\n",
       "      <th>BMI</th>\n",
       "      <th>DiabetesPedigreeFunction</th>\n",
       "      <th>Age</th>\n",
       "      <th>Outcome</th>\n",
       "    </tr>\n",
       "  </thead>\n",
       "  <tbody>\n",
       "    <tr>\n",
       "      <th>0</th>\n",
       "      <td>6</td>\n",
       "      <td>148</td>\n",
       "      <td>72</td>\n",
       "      <td>35</td>\n",
       "      <td>0</td>\n",
       "      <td>33.6</td>\n",
       "      <td>0.627</td>\n",
       "      <td>50</td>\n",
       "      <td>1</td>\n",
       "    </tr>\n",
       "    <tr>\n",
       "      <th>1</th>\n",
       "      <td>1</td>\n",
       "      <td>85</td>\n",
       "      <td>66</td>\n",
       "      <td>29</td>\n",
       "      <td>0</td>\n",
       "      <td>26.6</td>\n",
       "      <td>0.351</td>\n",
       "      <td>31</td>\n",
       "      <td>0</td>\n",
       "    </tr>\n",
       "    <tr>\n",
       "      <th>2</th>\n",
       "      <td>8</td>\n",
       "      <td>183</td>\n",
       "      <td>64</td>\n",
       "      <td>0</td>\n",
       "      <td>0</td>\n",
       "      <td>23.3</td>\n",
       "      <td>0.672</td>\n",
       "      <td>32</td>\n",
       "      <td>1</td>\n",
       "    </tr>\n",
       "    <tr>\n",
       "      <th>3</th>\n",
       "      <td>1</td>\n",
       "      <td>89</td>\n",
       "      <td>66</td>\n",
       "      <td>23</td>\n",
       "      <td>94</td>\n",
       "      <td>28.1</td>\n",
       "      <td>0.167</td>\n",
       "      <td>21</td>\n",
       "      <td>0</td>\n",
       "    </tr>\n",
       "    <tr>\n",
       "      <th>4</th>\n",
       "      <td>0</td>\n",
       "      <td>137</td>\n",
       "      <td>40</td>\n",
       "      <td>35</td>\n",
       "      <td>168</td>\n",
       "      <td>43.1</td>\n",
       "      <td>2.288</td>\n",
       "      <td>33</td>\n",
       "      <td>1</td>\n",
       "    </tr>\n",
       "    <tr>\n",
       "      <th>...</th>\n",
       "      <td>...</td>\n",
       "      <td>...</td>\n",
       "      <td>...</td>\n",
       "      <td>...</td>\n",
       "      <td>...</td>\n",
       "      <td>...</td>\n",
       "      <td>...</td>\n",
       "      <td>...</td>\n",
       "      <td>...</td>\n",
       "    </tr>\n",
       "    <tr>\n",
       "      <th>763</th>\n",
       "      <td>10</td>\n",
       "      <td>101</td>\n",
       "      <td>76</td>\n",
       "      <td>48</td>\n",
       "      <td>180</td>\n",
       "      <td>32.9</td>\n",
       "      <td>0.171</td>\n",
       "      <td>63</td>\n",
       "      <td>0</td>\n",
       "    </tr>\n",
       "    <tr>\n",
       "      <th>764</th>\n",
       "      <td>2</td>\n",
       "      <td>122</td>\n",
       "      <td>70</td>\n",
       "      <td>27</td>\n",
       "      <td>0</td>\n",
       "      <td>36.8</td>\n",
       "      <td>0.340</td>\n",
       "      <td>27</td>\n",
       "      <td>0</td>\n",
       "    </tr>\n",
       "    <tr>\n",
       "      <th>765</th>\n",
       "      <td>5</td>\n",
       "      <td>121</td>\n",
       "      <td>72</td>\n",
       "      <td>23</td>\n",
       "      <td>112</td>\n",
       "      <td>26.2</td>\n",
       "      <td>0.245</td>\n",
       "      <td>30</td>\n",
       "      <td>0</td>\n",
       "    </tr>\n",
       "    <tr>\n",
       "      <th>766</th>\n",
       "      <td>1</td>\n",
       "      <td>126</td>\n",
       "      <td>60</td>\n",
       "      <td>0</td>\n",
       "      <td>0</td>\n",
       "      <td>30.1</td>\n",
       "      <td>0.349</td>\n",
       "      <td>47</td>\n",
       "      <td>1</td>\n",
       "    </tr>\n",
       "    <tr>\n",
       "      <th>767</th>\n",
       "      <td>1</td>\n",
       "      <td>93</td>\n",
       "      <td>70</td>\n",
       "      <td>31</td>\n",
       "      <td>0</td>\n",
       "      <td>30.4</td>\n",
       "      <td>0.315</td>\n",
       "      <td>23</td>\n",
       "      <td>0</td>\n",
       "    </tr>\n",
       "  </tbody>\n",
       "</table>\n",
       "<p>768 rows × 9 columns</p>\n",
       "</div>"
      ],
      "text/plain": [
       "     Pregnancies  Glucose  BloodPressure  SkinThickness  Insulin   BMI  \\\n",
       "0              6      148             72             35        0  33.6   \n",
       "1              1       85             66             29        0  26.6   \n",
       "2              8      183             64              0        0  23.3   \n",
       "3              1       89             66             23       94  28.1   \n",
       "4              0      137             40             35      168  43.1   \n",
       "..           ...      ...            ...            ...      ...   ...   \n",
       "763           10      101             76             48      180  32.9   \n",
       "764            2      122             70             27        0  36.8   \n",
       "765            5      121             72             23      112  26.2   \n",
       "766            1      126             60              0        0  30.1   \n",
       "767            1       93             70             31        0  30.4   \n",
       "\n",
       "     DiabetesPedigreeFunction  Age  Outcome  \n",
       "0                       0.627   50        1  \n",
       "1                       0.351   31        0  \n",
       "2                       0.672   32        1  \n",
       "3                       0.167   21        0  \n",
       "4                       2.288   33        1  \n",
       "..                        ...  ...      ...  \n",
       "763                     0.171   63        0  \n",
       "764                     0.340   27        0  \n",
       "765                     0.245   30        0  \n",
       "766                     0.349   47        1  \n",
       "767                     0.315   23        0  \n",
       "\n",
       "[768 rows x 9 columns]"
      ]
     },
     "execution_count": 2,
     "metadata": {},
     "output_type": "execute_result"
    }
   ],
   "source": [
    "header_list = [\"Pregnancies\", \"Glucose\", \"BloodPressure\", \"SkinThickness\", \"Insulin\", \"BMI\", \"DiabetesPedigreeFunction\", \"Age\", \"Outcome\"]\n",
    "df = pd.read_csv('diabetes.csv', names=header_list)\n",
    "df"
   ]
  },
  {
   "cell_type": "markdown",
   "metadata": {},
   "source": [
    "**Checking columns**"
   ]
  },
  {
   "cell_type": "code",
   "execution_count": 3,
   "metadata": {},
   "outputs": [
    {
     "data": {
      "text/plain": [
       "Index(['Pregnancies', 'Glucose', 'BloodPressure', 'SkinThickness', 'Insulin',\n",
       "       'BMI', 'DiabetesPedigreeFunction', 'Age', 'Outcome'],\n",
       "      dtype='object')"
      ]
     },
     "execution_count": 3,
     "metadata": {},
     "output_type": "execute_result"
    }
   ],
   "source": [
    "df.columns"
   ]
  },
  {
   "cell_type": "markdown",
   "metadata": {},
   "source": [
    "**Check for missing/null values in a dataset**"
   ]
  },
  {
   "cell_type": "code",
   "execution_count": 4,
   "metadata": {},
   "outputs": [
    {
     "data": {
      "text/plain": [
       "Pregnancies                 0\n",
       "Glucose                     0\n",
       "BloodPressure               0\n",
       "SkinThickness               0\n",
       "Insulin                     0\n",
       "BMI                         0\n",
       "DiabetesPedigreeFunction    0\n",
       "Age                         0\n",
       "Outcome                     0\n",
       "dtype: int64"
      ]
     },
     "execution_count": 4,
     "metadata": {},
     "output_type": "execute_result"
    }
   ],
   "source": [
    "df.isnull().sum()"
   ]
  },
  {
   "cell_type": "markdown",
   "metadata": {},
   "source": [
    "**Some patients have missing data(Attributes with 0) for some of the features. Hence, we need to perform DATA CLEANING**\n",
    "\n",
    "**Option 1:**Eliminate all those patients with null/zero values, but in this way we would eliminate a lot of important data.\n",
    "\n",
    "**Option 2:**Calculate the median value for a specific column and substitute that value everywhere (in the same column) we have zero or null.\n",
    "\n",
    "Let's proceed with Option 2."
   ]
  },
  {
   "cell_type": "code",
   "execution_count": 5,
   "metadata": {
    "scrolled": true
   },
   "outputs": [],
   "source": [
    "# Calculate the median value for BMI and Substitute it in the BMI column of the dataset where values are 0\n",
    "median_bmi = df['BMI'].median()\n",
    "df['BMI'] = df['BMI'].replace(to_replace=0, value=median_bmi)"
   ]
  },
  {
   "cell_type": "code",
   "execution_count": 6,
   "metadata": {},
   "outputs": [],
   "source": [
    "# Calculate the median value for BloodPressure and Substitute it in the BloodPressure column of the dataset where values are 0\n",
    "median_bloodp = df['BloodPressure'].median()\n",
    "df['BloodPressure'] = df['BloodPressure'].replace(to_replace=0, value=median_bloodp)\n"
   ]
  },
  {
   "cell_type": "code",
   "execution_count": 7,
   "metadata": {},
   "outputs": [],
   "source": [
    "# Calculate the median value for Glucose and Substitute it in the Glucose column of the dataset where values are 0\n",
    "median_glucose = df['Glucose'].median()\n",
    "df['Glucose'] = df['Glucose'].replace(to_replace=0, value=median_glucose)\n"
   ]
  },
  {
   "cell_type": "code",
   "execution_count": 8,
   "metadata": {},
   "outputs": [],
   "source": [
    "# Calculate the median value for SkinThickness and Substitute it in the SkinThickness column of the dataset where values are 0\n",
    "median_skinthick = df['SkinThickness'].median()\n",
    "df['SkinThickness'] = df['SkinThickness'].replace(to_replace=0, value=median_skinthick)"
   ]
  },
  {
   "cell_type": "code",
   "execution_count": 9,
   "metadata": {},
   "outputs": [],
   "source": [
    "# Calculate the median value for Insulin and Substitute it in the Insulin column of the dataset where values are 0\n",
    "median_insulin = df['Insulin'].median()\n",
    "df['Insulin'] = df['Insulin'].replace(to_replace=0, value=median_insulin)"
   ]
  },
  {
   "cell_type": "code",
   "execution_count": 10,
   "metadata": {},
   "outputs": [
    {
     "data": {
      "text/html": [
       "<div>\n",
       "<style scoped>\n",
       "    .dataframe tbody tr th:only-of-type {\n",
       "        vertical-align: middle;\n",
       "    }\n",
       "\n",
       "    .dataframe tbody tr th {\n",
       "        vertical-align: top;\n",
       "    }\n",
       "\n",
       "    .dataframe thead th {\n",
       "        text-align: right;\n",
       "    }\n",
       "</style>\n",
       "<table border=\"1\" class=\"dataframe\">\n",
       "  <thead>\n",
       "    <tr style=\"text-align: right;\">\n",
       "      <th></th>\n",
       "      <th>Pregnancies</th>\n",
       "      <th>Glucose</th>\n",
       "      <th>BloodPressure</th>\n",
       "      <th>SkinThickness</th>\n",
       "      <th>Insulin</th>\n",
       "      <th>BMI</th>\n",
       "      <th>DiabetesPedigreeFunction</th>\n",
       "      <th>Age</th>\n",
       "      <th>Outcome</th>\n",
       "    </tr>\n",
       "  </thead>\n",
       "  <tbody>\n",
       "    <tr>\n",
       "      <th>0</th>\n",
       "      <td>6</td>\n",
       "      <td>148</td>\n",
       "      <td>72</td>\n",
       "      <td>35</td>\n",
       "      <td>30.5</td>\n",
       "      <td>33.6</td>\n",
       "      <td>0.627</td>\n",
       "      <td>50</td>\n",
       "      <td>1</td>\n",
       "    </tr>\n",
       "    <tr>\n",
       "      <th>1</th>\n",
       "      <td>1</td>\n",
       "      <td>85</td>\n",
       "      <td>66</td>\n",
       "      <td>29</td>\n",
       "      <td>30.5</td>\n",
       "      <td>26.6</td>\n",
       "      <td>0.351</td>\n",
       "      <td>31</td>\n",
       "      <td>0</td>\n",
       "    </tr>\n",
       "    <tr>\n",
       "      <th>2</th>\n",
       "      <td>8</td>\n",
       "      <td>183</td>\n",
       "      <td>64</td>\n",
       "      <td>23</td>\n",
       "      <td>30.5</td>\n",
       "      <td>23.3</td>\n",
       "      <td>0.672</td>\n",
       "      <td>32</td>\n",
       "      <td>1</td>\n",
       "    </tr>\n",
       "    <tr>\n",
       "      <th>3</th>\n",
       "      <td>1</td>\n",
       "      <td>89</td>\n",
       "      <td>66</td>\n",
       "      <td>23</td>\n",
       "      <td>94.0</td>\n",
       "      <td>28.1</td>\n",
       "      <td>0.167</td>\n",
       "      <td>21</td>\n",
       "      <td>0</td>\n",
       "    </tr>\n",
       "    <tr>\n",
       "      <th>4</th>\n",
       "      <td>0</td>\n",
       "      <td>137</td>\n",
       "      <td>40</td>\n",
       "      <td>35</td>\n",
       "      <td>168.0</td>\n",
       "      <td>43.1</td>\n",
       "      <td>2.288</td>\n",
       "      <td>33</td>\n",
       "      <td>1</td>\n",
       "    </tr>\n",
       "    <tr>\n",
       "      <th>...</th>\n",
       "      <td>...</td>\n",
       "      <td>...</td>\n",
       "      <td>...</td>\n",
       "      <td>...</td>\n",
       "      <td>...</td>\n",
       "      <td>...</td>\n",
       "      <td>...</td>\n",
       "      <td>...</td>\n",
       "      <td>...</td>\n",
       "    </tr>\n",
       "    <tr>\n",
       "      <th>95</th>\n",
       "      <td>6</td>\n",
       "      <td>144</td>\n",
       "      <td>72</td>\n",
       "      <td>27</td>\n",
       "      <td>228.0</td>\n",
       "      <td>33.9</td>\n",
       "      <td>0.255</td>\n",
       "      <td>40</td>\n",
       "      <td>0</td>\n",
       "    </tr>\n",
       "    <tr>\n",
       "      <th>96</th>\n",
       "      <td>2</td>\n",
       "      <td>92</td>\n",
       "      <td>62</td>\n",
       "      <td>28</td>\n",
       "      <td>30.5</td>\n",
       "      <td>31.6</td>\n",
       "      <td>0.130</td>\n",
       "      <td>24</td>\n",
       "      <td>0</td>\n",
       "    </tr>\n",
       "    <tr>\n",
       "      <th>97</th>\n",
       "      <td>1</td>\n",
       "      <td>71</td>\n",
       "      <td>48</td>\n",
       "      <td>18</td>\n",
       "      <td>76.0</td>\n",
       "      <td>20.4</td>\n",
       "      <td>0.323</td>\n",
       "      <td>22</td>\n",
       "      <td>0</td>\n",
       "    </tr>\n",
       "    <tr>\n",
       "      <th>98</th>\n",
       "      <td>6</td>\n",
       "      <td>93</td>\n",
       "      <td>50</td>\n",
       "      <td>30</td>\n",
       "      <td>64.0</td>\n",
       "      <td>28.7</td>\n",
       "      <td>0.356</td>\n",
       "      <td>23</td>\n",
       "      <td>0</td>\n",
       "    </tr>\n",
       "    <tr>\n",
       "      <th>99</th>\n",
       "      <td>1</td>\n",
       "      <td>122</td>\n",
       "      <td>90</td>\n",
       "      <td>51</td>\n",
       "      <td>220.0</td>\n",
       "      <td>49.7</td>\n",
       "      <td>0.325</td>\n",
       "      <td>31</td>\n",
       "      <td>1</td>\n",
       "    </tr>\n",
       "  </tbody>\n",
       "</table>\n",
       "<p>100 rows × 9 columns</p>\n",
       "</div>"
      ],
      "text/plain": [
       "    Pregnancies  Glucose  BloodPressure  SkinThickness  Insulin   BMI  \\\n",
       "0             6      148             72             35     30.5  33.6   \n",
       "1             1       85             66             29     30.5  26.6   \n",
       "2             8      183             64             23     30.5  23.3   \n",
       "3             1       89             66             23     94.0  28.1   \n",
       "4             0      137             40             35    168.0  43.1   \n",
       "..          ...      ...            ...            ...      ...   ...   \n",
       "95            6      144             72             27    228.0  33.9   \n",
       "96            2       92             62             28     30.5  31.6   \n",
       "97            1       71             48             18     76.0  20.4   \n",
       "98            6       93             50             30     64.0  28.7   \n",
       "99            1      122             90             51    220.0  49.7   \n",
       "\n",
       "    DiabetesPedigreeFunction  Age  Outcome  \n",
       "0                      0.627   50        1  \n",
       "1                      0.351   31        0  \n",
       "2                      0.672   32        1  \n",
       "3                      0.167   21        0  \n",
       "4                      2.288   33        1  \n",
       "..                       ...  ...      ...  \n",
       "95                     0.255   40        0  \n",
       "96                     0.130   24        0  \n",
       "97                     0.323   22        0  \n",
       "98                     0.356   23        0  \n",
       "99                     0.325   31        1  \n",
       "\n",
       "[100 rows x 9 columns]"
      ]
     },
     "execution_count": 10,
     "metadata": {},
     "output_type": "execute_result"
    }
   ],
   "source": [
    "df.head(100)"
   ]
  },
  {
   "cell_type": "markdown",
   "metadata": {},
   "source": [
    "**2.Consider all columns as independent variables and assign to variable X except the last column and consider the last column as the dependent variable and assign to variable y.**"
   ]
  },
  {
   "cell_type": "code",
   "execution_count": 11,
   "metadata": {},
   "outputs": [
    {
     "data": {
      "text/plain": [
       "array([[  6.   , 148.   ,  72.   , ...,  33.6  ,   0.627,  50.   ],\n",
       "       [  1.   ,  85.   ,  66.   , ...,  26.6  ,   0.351,  31.   ],\n",
       "       [  8.   , 183.   ,  64.   , ...,  23.3  ,   0.672,  32.   ],\n",
       "       ...,\n",
       "       [  5.   , 121.   ,  72.   , ...,  26.2  ,   0.245,  30.   ],\n",
       "       [  1.   , 126.   ,  60.   , ...,  30.1  ,   0.349,  47.   ],\n",
       "       [  1.   ,  93.   ,  70.   , ...,  30.4  ,   0.315,  23.   ]])"
      ]
     },
     "execution_count": 11,
     "metadata": {},
     "output_type": "execute_result"
    }
   ],
   "source": [
    "X = df.iloc[:, :-1].values\n",
    "X"
   ]
  },
  {
   "cell_type": "code",
   "execution_count": 12,
   "metadata": {},
   "outputs": [
    {
     "data": {
      "text/plain": [
       "array([1, 0, 1, 0, 1, 0, 1, 0, 1, 1, 0, 1, 0, 1, 1, 1, 1, 1, 0, 1, 0, 0,\n",
       "       1, 1, 1, 1, 1, 0, 0, 0, 0, 1, 0, 0, 0, 0, 0, 1, 1, 1, 0, 0, 0, 1,\n",
       "       0, 1, 0, 0, 1, 0, 0, 0, 0, 1, 0, 0, 1, 0, 0, 0, 0, 1, 0, 0, 1, 0,\n",
       "       1, 0, 0, 0, 1, 0, 1, 0, 0, 0, 0, 0, 1, 0, 0, 0, 0, 0, 1, 0, 0, 0,\n",
       "       1, 0, 0, 0, 0, 1, 0, 0, 0, 0, 0, 1, 1, 0, 0, 0, 0, 0, 0, 0, 0, 1,\n",
       "       1, 1, 0, 0, 1, 1, 1, 0, 0, 0, 1, 0, 0, 0, 1, 1, 0, 0, 1, 1, 1, 1,\n",
       "       1, 0, 0, 0, 0, 0, 0, 0, 0, 0, 0, 1, 0, 0, 0, 0, 0, 0, 0, 0, 1, 0,\n",
       "       1, 1, 0, 0, 0, 1, 0, 0, 0, 0, 1, 1, 0, 0, 0, 0, 1, 1, 0, 0, 0, 1,\n",
       "       0, 1, 0, 1, 0, 0, 0, 0, 0, 1, 1, 1, 1, 1, 0, 0, 1, 1, 0, 1, 0, 1,\n",
       "       1, 1, 0, 0, 0, 0, 0, 0, 1, 1, 0, 1, 0, 0, 0, 1, 1, 1, 1, 0, 1, 1,\n",
       "       1, 1, 0, 0, 0, 0, 0, 1, 0, 0, 1, 1, 0, 0, 0, 1, 1, 1, 1, 0, 0, 0,\n",
       "       1, 1, 0, 1, 0, 0, 0, 0, 0, 0, 0, 0, 1, 1, 0, 0, 0, 1, 0, 1, 0, 0,\n",
       "       1, 0, 1, 0, 0, 1, 1, 0, 0, 0, 0, 0, 1, 0, 0, 0, 1, 0, 0, 1, 1, 0,\n",
       "       0, 1, 0, 0, 0, 1, 1, 1, 0, 0, 1, 0, 1, 0, 1, 1, 0, 1, 0, 0, 1, 0,\n",
       "       1, 1, 0, 0, 1, 0, 1, 0, 0, 1, 0, 1, 0, 1, 1, 1, 0, 0, 1, 0, 1, 0,\n",
       "       0, 0, 1, 0, 0, 0, 0, 1, 1, 1, 0, 0, 0, 0, 0, 0, 0, 0, 0, 1, 0, 0,\n",
       "       0, 0, 0, 1, 1, 1, 0, 1, 1, 0, 0, 1, 0, 0, 1, 0, 0, 1, 1, 0, 0, 0,\n",
       "       0, 1, 0, 0, 1, 0, 0, 0, 0, 0, 0, 0, 1, 1, 1, 0, 0, 1, 0, 0, 1, 0,\n",
       "       0, 1, 0, 1, 1, 0, 1, 0, 1, 0, 1, 0, 1, 1, 0, 0, 0, 0, 1, 1, 0, 1,\n",
       "       0, 1, 0, 0, 0, 0, 1, 1, 0, 1, 0, 1, 0, 0, 0, 0, 0, 1, 0, 0, 0, 0,\n",
       "       1, 0, 0, 1, 1, 1, 0, 0, 1, 0, 0, 1, 0, 0, 0, 1, 0, 0, 1, 0, 0, 0,\n",
       "       0, 0, 0, 0, 0, 0, 1, 0, 0, 0, 0, 0, 0, 0, 1, 0, 0, 0, 1, 0, 0, 0,\n",
       "       1, 1, 0, 0, 0, 0, 0, 0, 0, 1, 0, 0, 0, 0, 1, 0, 0, 0, 1, 0, 0, 0,\n",
       "       1, 0, 0, 0, 1, 0, 0, 0, 0, 1, 1, 0, 0, 0, 0, 0, 0, 1, 0, 0, 0, 0,\n",
       "       0, 0, 0, 0, 0, 0, 0, 1, 0, 0, 0, 1, 1, 1, 1, 0, 0, 1, 1, 0, 0, 0,\n",
       "       0, 0, 0, 0, 0, 0, 0, 0, 0, 0, 1, 1, 0, 0, 0, 0, 0, 0, 0, 1, 0, 0,\n",
       "       0, 0, 0, 0, 0, 1, 0, 1, 1, 0, 0, 0, 1, 0, 1, 0, 1, 0, 1, 0, 1, 0,\n",
       "       0, 1, 0, 0, 1, 0, 0, 0, 0, 1, 1, 0, 1, 0, 0, 0, 0, 1, 1, 0, 1, 0,\n",
       "       0, 0, 1, 1, 0, 0, 0, 0, 0, 0, 0, 0, 0, 0, 1, 0, 0, 0, 0, 1, 0, 0,\n",
       "       1, 0, 0, 0, 1, 0, 0, 0, 1, 1, 1, 0, 0, 0, 0, 0, 0, 1, 0, 0, 0, 1,\n",
       "       0, 1, 1, 1, 1, 0, 1, 1, 0, 0, 0, 0, 0, 0, 0, 1, 1, 0, 1, 0, 0, 1,\n",
       "       0, 1, 0, 0, 0, 0, 0, 1, 0, 1, 0, 1, 0, 1, 1, 0, 0, 0, 0, 1, 1, 0,\n",
       "       0, 0, 1, 0, 1, 1, 0, 0, 1, 0, 0, 1, 1, 0, 0, 1, 0, 0, 1, 0, 0, 0,\n",
       "       0, 0, 0, 0, 1, 1, 1, 0, 0, 0, 0, 0, 0, 1, 1, 0, 0, 1, 0, 0, 1, 0,\n",
       "       1, 1, 1, 0, 0, 1, 1, 1, 0, 1, 0, 1, 0, 1, 0, 0, 0, 0, 1, 0],\n",
       "      dtype=int64)"
      ]
     },
     "execution_count": 12,
     "metadata": {},
     "output_type": "execute_result"
    }
   ],
   "source": [
    "y = df.iloc[:, -1].values\n",
    "y"
   ]
  },
  {
   "cell_type": "markdown",
   "metadata": {},
   "source": [
    "**3.Remove columns that don’t help the problem statement.**"
   ]
  },
  {
   "cell_type": "code",
   "execution_count": 13,
   "metadata": {},
   "outputs": [
    {
     "data": {
      "image/png": "[encoded data removed]",
      "text/plain": [
       "<Figure size 864x648 with 2 Axes>"
      ]
     },
     "metadata": {
      "needs_background": "light"
     },
     "output_type": "display_data"
    }
   ],
   "source": [
    "corrmat = df.corr()\n",
    "f, ax = plt.subplots(figsize=(12, 9))\n",
    "sns.heatmap(corrmat, cmap=\"coolwarm\", vmax=.8, square=True, annot= True);"
   ]
  },
  {
   "cell_type": "markdown",
   "metadata": {},
   "source": [
    "All the columns ('Pregnancies', 'Glucose', 'BloodPressure', 'SkinThickness', 'Insulin','BMI', 'DiabetesPedigreeFunction', 'Age') are essential to Predict the 'Outcome'. Hence no column is removed."
   ]
  },
  {
   "cell_type": "markdown",
   "metadata": {},
   "source": [
    "**4.Do Feature Scaling on Independent variables and 5. Split the data into train and test dataset**"
   ]
  },
  {
   "cell_type": "code",
   "execution_count": 14,
   "metadata": {},
   "outputs": [],
   "source": [
    "from sklearn.preprocessing import StandardScaler"
   ]
  },
  {
   "cell_type": "code",
   "execution_count": 17,
   "metadata": {},
   "outputs": [],
   "source": [
    "sc = StandardScaler()\n",
    "from sklearn.model_selection import train_test_split\n",
    "features = ['Pregnancies', 'Glucose', 'BloodPressure', 'SkinThickness', 'Insulin',\n",
    "       'BMI', 'DiabetesPedigreeFunction', 'Age']\n",
    "X_feature = df[features]\n",
    "y_target = df['Outcome']\n",
    "X_train, X_test, y_train, y_test= train_test_split(X_feature, y_target, test_size=0.2, random_state = 42)\n",
    "X_train = sc.fit_transform(X_train)\n",
    "X_test = sc.transform(X_test)"
   ]
  },
  {
   "cell_type": "code",
   "execution_count": 18,
   "metadata": {},
   "outputs": [
    {
     "data": {
      "text/plain": [
       "array([[-0.52639686, -1.25688146, -0.01899526, ..., -0.05024677,\n",
       "        -0.49073479, -1.03594038],\n",
       "       [ 1.58804586, -0.32605067,  0.8081742 , ..., -0.59858988,\n",
       "         2.41502991,  1.48710085],\n",
       "       [-0.82846011,  0.57153617, -2.16963585, ..., -0.52643947,\n",
       "         0.54916055, -0.94893896],\n",
       "       ...,\n",
       "       [ 1.8901091 , -0.69173419,  1.13904198, ...,  1.91224437,\n",
       "         1.981245  ,  0.44308379],\n",
       "       [-1.13052335,  0.63802409, -0.01899526, ...,  1.45048175,\n",
       "        -0.78487662, -0.33992901],\n",
       "       [-1.13052335,  0.10612077,  1.96621144, ..., -1.42110454,\n",
       "        -0.61552223, -1.03594038]])"
      ]
     },
     "execution_count": 18,
     "metadata": {},
     "output_type": "execute_result"
    }
   ],
   "source": [
    "X_train"
   ]
  },
  {
   "cell_type": "code",
   "execution_count": 19,
   "metadata": {},
   "outputs": [
    {
     "data": {
      "text/plain": [
       "array([[ 0.68185612, -0.79146606, -1.1770325 , ...,  0.23835487,\n",
       "        -0.11637247,  0.87809089],\n",
       "       [-0.52639686, -0.32605067,  0.22915558, ...,  0.48366626,\n",
       "        -0.954231  , -1.03594038],\n",
       "       [-0.52639686, -0.45902649, -0.68073083, ..., -0.22340775,\n",
       "        -0.9245197 , -1.03594038],\n",
       "       ...,\n",
       "       [ 1.28598261, -0.89119794, -0.01899526, ...,  0.64239716,\n",
       "         0.04703966,  2.0961108 ],\n",
       "       [-0.52639686,  0.80424387, -0.18442915, ..., -0.62745004,\n",
       "        -0.39268751, -0.33992901],\n",
       "       [ 1.28598261, -1.58932103, -0.18442915, ...,  0.42594593,\n",
       "         0.70068816,  0.53008521]])"
      ]
     },
     "execution_count": 19,
     "metadata": {},
     "output_type": "execute_result"
    }
   ],
   "source": [
    "X_test"
   ]
  },
  {
   "cell_type": "code",
   "execution_count": 20,
   "metadata": {
    "scrolled": true
   },
   "outputs": [
    {
     "name": "stdout",
     "output_type": "stream",
     "text": [
      " Shape of x_train =  (614, 8)\n",
      " Shape of x_test =  (154, 8)\n",
      " Shape of y_train =  (614,)\n",
      " Shape of y_test =  (154,)\n"
     ]
    }
   ],
   "source": [
    "print(\" Shape of x_train = \", X_train.shape)\n",
    "print(\" Shape of x_test = \", X_test.shape)\n",
    "print(\" Shape of y_train = \", y_train.shape)\n",
    "print(\" Shape of y_test = \", y_test.shape)"
   ]
  },
  {
   "cell_type": "markdown",
   "metadata": {},
   "source": [
    "**6.Use Keras to make the neural network model and train the dataset on the same.**"
   ]
  },
  {
   "cell_type": "code",
   "execution_count": 21,
   "metadata": {},
   "outputs": [],
   "source": [
    "from tensorflow.keras.models import Sequential\n",
    "from tensorflow.keras.layers import Dense"
   ]
  },
  {
   "cell_type": "code",
   "execution_count": 22,
   "metadata": {},
   "outputs": [],
   "source": [
    "#Creating neural network model using Keras\n",
    "model = Sequential()\n",
    "model.add(Dense(12, input_dim=8, activation='relu'))\n",
    "model.add(Dense(8, activation='relu'))\n",
    "model.add(Dense(1, activation='sigmoid'))"
   ]
  },
  {
   "cell_type": "code",
   "execution_count": 23,
   "metadata": {},
   "outputs": [],
   "source": [
    "# Compiling neural network model\n",
    "model.compile(loss='binary_crossentropy', optimizer='adam', metrics=['accuracy'])"
   ]
  },
  {
   "cell_type": "code",
   "execution_count": 24,
   "metadata": {},
   "outputs": [
    {
     "name": "stdout",
     "output_type": "stream",
     "text": [
      "Epoch 1/150\n",
      "62/62 [==============================] - 1s 2ms/step - loss: 0.7309 - accuracy: 0.5234\n",
      "Epoch 2/150\n",
      "62/62 [==============================] - 0s 3ms/step - loss: 0.6023 - accuracy: 0.7449\n",
      "Epoch 3/150\n",
      "62/62 [==============================] - 0s 2ms/step - loss: 0.5441 - accuracy: 0.7561\n",
      "Epoch 4/150\n",
      "62/62 [==============================] - 0s 2ms/step - loss: 0.5119 - accuracy: 0.7661\n",
      "Epoch 5/150\n",
      "62/62 [==============================] - 0s 2ms/step - loss: 0.4985 - accuracy: 0.7528\n",
      "Epoch 6/150\n",
      "62/62 [==============================] - 0s 2ms/step - loss: 0.4853 - accuracy: 0.7463\n",
      "Epoch 7/150\n",
      "62/62 [==============================] - 0s 2ms/step - loss: 0.4861 - accuracy: 0.7643\n",
      "Epoch 8/150\n",
      "62/62 [==============================] - 0s 2ms/step - loss: 0.4857 - accuracy: 0.7480: 0s - loss: 0.5060 - accuracy: 0.\n",
      "Epoch 9/150\n",
      "62/62 [==============================] - 0s 2ms/step - loss: 0.4652 - accuracy: 0.7623\n",
      "Epoch 10/150\n",
      "62/62 [==============================] - 0s 2ms/step - loss: 0.4772 - accuracy: 0.7511\n",
      "Epoch 11/150\n",
      "62/62 [==============================] - 0s 2ms/step - loss: 0.4652 - accuracy: 0.7545\n",
      "Epoch 12/150\n",
      "62/62 [==============================] - 0s 2ms/step - loss: 0.4859 - accuracy: 0.7555\n",
      "Epoch 13/150\n",
      "62/62 [==============================] - 0s 2ms/step - loss: 0.4318 - accuracy: 0.7734\n",
      "Epoch 14/150\n",
      "62/62 [==============================] - 0s 2ms/step - loss: 0.4494 - accuracy: 0.7769\n",
      "Epoch 15/150\n",
      "62/62 [==============================] - 0s 2ms/step - loss: 0.4493 - accuracy: 0.7617\n",
      "Epoch 16/150\n",
      "62/62 [==============================] - 0s 2ms/step - loss: 0.4089 - accuracy: 0.7926\n",
      "Epoch 17/150\n",
      "62/62 [==============================] - 0s 2ms/step - loss: 0.4524 - accuracy: 0.7625\n",
      "Epoch 18/150\n",
      "62/62 [==============================] - 0s 2ms/step - loss: 0.4191 - accuracy: 0.7883\n",
      "Epoch 19/150\n",
      "62/62 [==============================] - 0s 3ms/step - loss: 0.4332 - accuracy: 0.7845\n",
      "Epoch 20/150\n",
      "62/62 [==============================] - 0s 2ms/step - loss: 0.4241 - accuracy: 0.7710\n",
      "Epoch 21/150\n",
      "62/62 [==============================] - 0s 2ms/step - loss: 0.4291 - accuracy: 0.7731\n",
      "Epoch 22/150\n",
      "62/62 [==============================] - 0s 2ms/step - loss: 0.4185 - accuracy: 0.7803\n",
      "Epoch 23/150\n",
      "62/62 [==============================] - 0s 2ms/step - loss: 0.4175 - accuracy: 0.7998\n",
      "Epoch 24/150\n",
      "62/62 [==============================] - 0s 1ms/step - loss: 0.4667 - accuracy: 0.7782\n",
      "Epoch 25/150\n",
      "62/62 [==============================] - 0s 2ms/step - loss: 0.4520 - accuracy: 0.7656\n",
      "Epoch 26/150\n",
      "62/62 [==============================] - 0s 2ms/step - loss: 0.4590 - accuracy: 0.7595\n",
      "Epoch 27/150\n",
      "62/62 [==============================] - 0s 2ms/step - loss: 0.4255 - accuracy: 0.7818\n",
      "Epoch 28/150\n",
      "62/62 [==============================] - 0s 2ms/step - loss: 0.4444 - accuracy: 0.7807\n",
      "Epoch 29/150\n",
      "62/62 [==============================] - 0s 2ms/step - loss: 0.4259 - accuracy: 0.7969\n",
      "Epoch 30/150\n",
      "62/62 [==============================] - 0s 2ms/step - loss: 0.3850 - accuracy: 0.8279\n",
      "Epoch 31/150\n",
      "62/62 [==============================] - 0s 1ms/step - loss: 0.4228 - accuracy: 0.7871\n",
      "Epoch 32/150\n",
      "62/62 [==============================] - 0s 2ms/step - loss: 0.4391 - accuracy: 0.7820\n",
      "Epoch 33/150\n",
      "62/62 [==============================] - 0s 2ms/step - loss: 0.4258 - accuracy: 0.7969\n",
      "Epoch 34/150\n",
      "62/62 [==============================] - 0s 1ms/step - loss: 0.4160 - accuracy: 0.7902\n",
      "Epoch 35/150\n",
      "62/62 [==============================] - 0s 2ms/step - loss: 0.4274 - accuracy: 0.7869\n",
      "Epoch 36/150\n",
      "62/62 [==============================] - 0s 2ms/step - loss: 0.4230 - accuracy: 0.7775\n",
      "Epoch 37/150\n",
      "62/62 [==============================] - 0s 2ms/step - loss: 0.4463 - accuracy: 0.7731\n",
      "Epoch 38/150\n",
      "62/62 [==============================] - 0s 2ms/step - loss: 0.4172 - accuracy: 0.7911\n",
      "Epoch 39/150\n",
      "62/62 [==============================] - 0s 2ms/step - loss: 0.4303 - accuracy: 0.8085\n",
      "Epoch 40/150\n",
      "62/62 [==============================] - 0s 2ms/step - loss: 0.4159 - accuracy: 0.8009\n",
      "Epoch 41/150\n",
      "62/62 [==============================] - 0s 3ms/step - loss: 0.4035 - accuracy: 0.8080\n",
      "Epoch 42/150\n",
      "62/62 [==============================] - 0s 3ms/step - loss: 0.4056 - accuracy: 0.7868\n",
      "Epoch 43/150\n",
      "62/62 [==============================] - 0s 2ms/step - loss: 0.4044 - accuracy: 0.7993\n",
      "Epoch 44/150\n",
      "62/62 [==============================] - 0s 3ms/step - loss: 0.3992 - accuracy: 0.8025\n",
      "Epoch 45/150\n",
      "62/62 [==============================] - 0s 3ms/step - loss: 0.4250 - accuracy: 0.8033\n",
      "Epoch 46/150\n",
      "62/62 [==============================] - 0s 2ms/step - loss: 0.4064 - accuracy: 0.8026\n",
      "Epoch 47/150\n",
      "62/62 [==============================] - 0s 2ms/step - loss: 0.4316 - accuracy: 0.7810\n",
      "Epoch 48/150\n",
      "62/62 [==============================] - 0s 3ms/step - loss: 0.3866 - accuracy: 0.7973\n",
      "Epoch 49/150\n",
      "62/62 [==============================] - 0s 3ms/step - loss: 0.4040 - accuracy: 0.7987\n",
      "Epoch 50/150\n",
      "62/62 [==============================] - 0s 3ms/step - loss: 0.3935 - accuracy: 0.8019\n",
      "Epoch 51/150\n",
      "62/62 [==============================] - 0s 2ms/step - loss: 0.4339 - accuracy: 0.7823\n",
      "Epoch 52/150\n",
      "62/62 [==============================] - 0s 2ms/step - loss: 0.3913 - accuracy: 0.8086\n",
      "Epoch 53/150\n",
      "62/62 [==============================] - 0s 2ms/step - loss: 0.4113 - accuracy: 0.7996\n",
      "Epoch 54/150\n",
      "62/62 [==============================] - 0s 3ms/step - loss: 0.3729 - accuracy: 0.8346\n",
      "Epoch 55/150\n",
      "62/62 [==============================] - 0s 3ms/step - loss: 0.4067 - accuracy: 0.8038\n",
      "Epoch 56/150\n",
      "62/62 [==============================] - 0s 2ms/step - loss: 0.4327 - accuracy: 0.7916\n",
      "Epoch 57/150\n",
      "62/62 [==============================] - 0s 1ms/step - loss: 0.3872 - accuracy: 0.8337\n",
      "Epoch 58/150\n",
      "62/62 [==============================] - 0s 1ms/step - loss: 0.3679 - accuracy: 0.8259\n",
      "Epoch 59/150\n",
      "62/62 [==============================] - 0s 2ms/step - loss: 0.3727 - accuracy: 0.8268\n",
      "Epoch 60/150\n",
      "62/62 [==============================] - 0s 2ms/step - loss: 0.3797 - accuracy: 0.8037\n",
      "Epoch 61/150\n",
      "62/62 [==============================] - 0s 2ms/step - loss: 0.3862 - accuracy: 0.8120\n",
      "Epoch 62/150\n",
      "62/62 [==============================] - 0s 2ms/step - loss: 0.4106 - accuracy: 0.8155\n",
      "Epoch 63/150\n",
      "62/62 [==============================] - 0s 2ms/step - loss: 0.4265 - accuracy: 0.7775\n",
      "Epoch 64/150\n",
      "62/62 [==============================] - 0s 2ms/step - loss: 0.3932 - accuracy: 0.8138\n",
      "Epoch 65/150\n",
      "62/62 [==============================] - 0s 2ms/step - loss: 0.3818 - accuracy: 0.8370\n",
      "Epoch 66/150\n",
      "62/62 [==============================] - 0s 2ms/step - loss: 0.3707 - accuracy: 0.8239\n",
      "Epoch 67/150\n",
      "62/62 [==============================] - 0s 2ms/step - loss: 0.4089 - accuracy: 0.7917\n",
      "Epoch 68/150\n",
      "62/62 [==============================] - 0s 1ms/step - loss: 0.3983 - accuracy: 0.8133\n",
      "Epoch 69/150\n",
      "62/62 [==============================] - 0s 2ms/step - loss: 0.3880 - accuracy: 0.8194\n",
      "Epoch 70/150\n",
      "62/62 [==============================] - 0s 2ms/step - loss: 0.3763 - accuracy: 0.8255\n",
      "Epoch 71/150\n",
      "62/62 [==============================] - 0s 2ms/step - loss: 0.3868 - accuracy: 0.8072\n",
      "Epoch 72/150\n",
      "62/62 [==============================] - 0s 2ms/step - loss: 0.3718 - accuracy: 0.8289\n",
      "Epoch 73/150\n",
      "62/62 [==============================] - 0s 2ms/step - loss: 0.3608 - accuracy: 0.8214\n",
      "Epoch 74/150\n",
      "62/62 [==============================] - 0s 2ms/step - loss: 0.3919 - accuracy: 0.8072\n",
      "Epoch 75/150\n",
      "62/62 [==============================] - 0s 2ms/step - loss: 0.4025 - accuracy: 0.7918\n",
      "Epoch 76/150\n",
      "62/62 [==============================] - 0s 1ms/step - loss: 0.3838 - accuracy: 0.8287\n",
      "Epoch 77/150\n",
      "62/62 [==============================] - 0s 2ms/step - loss: 0.3735 - accuracy: 0.8308\n",
      "Epoch 78/150\n",
      "62/62 [==============================] - 0s 2ms/step - loss: 0.3552 - accuracy: 0.8398\n",
      "Epoch 79/150\n",
      "62/62 [==============================] - 0s 2ms/step - loss: 0.3929 - accuracy: 0.8019\n",
      "Epoch 80/150\n",
      "62/62 [==============================] - 0s 2ms/step - loss: 0.3633 - accuracy: 0.8284\n",
      "Epoch 81/150\n",
      "62/62 [==============================] - 0s 2ms/step - loss: 0.3731 - accuracy: 0.8080\n",
      "Epoch 82/150\n"
     ]
    },
    {
     "name": "stdout",
     "output_type": "stream",
     "text": [
      "62/62 [==============================] - 0s 1ms/step - loss: 0.3725 - accuracy: 0.8316\n",
      "Epoch 83/150\n",
      "62/62 [==============================] - 0s 1ms/step - loss: 0.3946 - accuracy: 0.8123\n",
      "Epoch 84/150\n",
      "62/62 [==============================] - 0s 2ms/step - loss: 0.3798 - accuracy: 0.8093\n",
      "Epoch 85/150\n",
      "62/62 [==============================] - 0s 1ms/step - loss: 0.3810 - accuracy: 0.8092\n",
      "Epoch 86/150\n",
      "62/62 [==============================] - 0s 1ms/step - loss: 0.3701 - accuracy: 0.8166\n",
      "Epoch 87/150\n",
      "62/62 [==============================] - 0s 1ms/step - loss: 0.3838 - accuracy: 0.8283\n",
      "Epoch 88/150\n",
      "62/62 [==============================] - 0s 2ms/step - loss: 0.3754 - accuracy: 0.8081\n",
      "Epoch 89/150\n",
      "62/62 [==============================] - 0s 2ms/step - loss: 0.4056 - accuracy: 0.7944\n",
      "Epoch 90/150\n",
      "62/62 [==============================] - 0s 2ms/step - loss: 0.3935 - accuracy: 0.7994\n",
      "Epoch 91/150\n",
      "62/62 [==============================] - 0s 2ms/step - loss: 0.3632 - accuracy: 0.8225\n",
      "Epoch 92/150\n",
      "62/62 [==============================] - 0s 2ms/step - loss: 0.3779 - accuracy: 0.8081\n",
      "Epoch 93/150\n",
      "62/62 [==============================] - 0s 2ms/step - loss: 0.3670 - accuracy: 0.8202\n",
      "Epoch 94/150\n",
      "62/62 [==============================] - 0s 2ms/step - loss: 0.3408 - accuracy: 0.8504\n",
      "Epoch 95/150\n",
      "62/62 [==============================] - 0s 2ms/step - loss: 0.3891 - accuracy: 0.8053\n",
      "Epoch 96/150\n",
      "62/62 [==============================] - 0s 2ms/step - loss: 0.3379 - accuracy: 0.8379\n",
      "Epoch 97/150\n",
      "62/62 [==============================] - 0s 2ms/step - loss: 0.3739 - accuracy: 0.8254\n",
      "Epoch 98/150\n",
      "62/62 [==============================] - 0s 2ms/step - loss: 0.3814 - accuracy: 0.8167\n",
      "Epoch 99/150\n",
      "62/62 [==============================] - 0s 2ms/step - loss: 0.3828 - accuracy: 0.8176\n",
      "Epoch 100/150\n",
      "62/62 [==============================] - 0s 2ms/step - loss: 0.3743 - accuracy: 0.8203\n",
      "Epoch 101/150\n",
      "62/62 [==============================] - 0s 2ms/step - loss: 0.3543 - accuracy: 0.8308\n",
      "Epoch 102/150\n",
      "62/62 [==============================] - 0s 2ms/step - loss: 0.3457 - accuracy: 0.8338\n",
      "Epoch 103/150\n",
      "62/62 [==============================] - 0s 2ms/step - loss: 0.3721 - accuracy: 0.8288\n",
      "Epoch 104/150\n",
      "62/62 [==============================] - 0s 2ms/step - loss: 0.3738 - accuracy: 0.8255\n",
      "Epoch 105/150\n",
      "62/62 [==============================] - 0s 2ms/step - loss: 0.3725 - accuracy: 0.8239: 0s - loss: 0.3731 - accuracy: 0.82\n",
      "Epoch 106/150\n",
      "62/62 [==============================] - 0s 1ms/step - loss: 0.3778 - accuracy: 0.8236\n",
      "Epoch 107/150\n",
      "62/62 [==============================] - 0s 2ms/step - loss: 0.3762 - accuracy: 0.8261\n",
      "Epoch 108/150\n",
      "62/62 [==============================] - 0s 2ms/step - loss: 0.3898 - accuracy: 0.7852\n",
      "Epoch 109/150\n",
      "62/62 [==============================] - 0s 2ms/step - loss: 0.3759 - accuracy: 0.8132\n",
      "Epoch 110/150\n",
      "62/62 [==============================] - 0s 1ms/step - loss: 0.3470 - accuracy: 0.8345\n",
      "Epoch 111/150\n",
      "62/62 [==============================] - 0s 2ms/step - loss: 0.3638 - accuracy: 0.8177\n",
      "Epoch 112/150\n",
      "62/62 [==============================] - 0s 2ms/step - loss: 0.3628 - accuracy: 0.8119\n",
      "Epoch 113/150\n",
      "62/62 [==============================] - 0s 2ms/step - loss: 0.3725 - accuracy: 0.8212\n",
      "Epoch 114/150\n",
      "62/62 [==============================] - 0s 2ms/step - loss: 0.3609 - accuracy: 0.8190\n",
      "Epoch 115/150\n",
      "62/62 [==============================] - 0s 1ms/step - loss: 0.3195 - accuracy: 0.8616\n",
      "Epoch 116/150\n",
      "62/62 [==============================] - 0s 2ms/step - loss: 0.3265 - accuracy: 0.8481\n",
      "Epoch 117/150\n",
      "62/62 [==============================] - 0s 2ms/step - loss: 0.3544 - accuracy: 0.8363\n",
      "Epoch 118/150\n",
      "62/62 [==============================] - 0s 2ms/step - loss: 0.3807 - accuracy: 0.8205\n",
      "Epoch 119/150\n",
      "62/62 [==============================] - 0s 2ms/step - loss: 0.3652 - accuracy: 0.8318\n",
      "Epoch 120/150\n",
      "62/62 [==============================] - 0s 2ms/step - loss: 0.3464 - accuracy: 0.8409\n",
      "Epoch 121/150\n",
      "62/62 [==============================] - 0s 2ms/step - loss: 0.3347 - accuracy: 0.8467\n",
      "Epoch 122/150\n",
      "62/62 [==============================] - 0s 2ms/step - loss: 0.3492 - accuracy: 0.8234\n",
      "Epoch 123/150\n",
      "62/62 [==============================] - 0s 1ms/step - loss: 0.3533 - accuracy: 0.8333\n",
      "Epoch 124/150\n",
      "62/62 [==============================] - 0s 2ms/step - loss: 0.3565 - accuracy: 0.8234\n",
      "Epoch 125/150\n",
      "62/62 [==============================] - 0s 2ms/step - loss: 0.3429 - accuracy: 0.8384\n",
      "Epoch 126/150\n",
      "62/62 [==============================] - 0s 1ms/step - loss: 0.3520 - accuracy: 0.8236\n",
      "Epoch 127/150\n",
      "62/62 [==============================] - 0s 1ms/step - loss: 0.3513 - accuracy: 0.8298\n",
      "Epoch 128/150\n",
      "62/62 [==============================] - 0s 2ms/step - loss: 0.3457 - accuracy: 0.8295\n",
      "Epoch 129/150\n",
      "62/62 [==============================] - 0s 2ms/step - loss: 0.3837 - accuracy: 0.7968\n",
      "Epoch 130/150\n",
      "62/62 [==============================] - 0s 2ms/step - loss: 0.3437 - accuracy: 0.8273\n",
      "Epoch 131/150\n",
      "62/62 [==============================] - 0s 2ms/step - loss: 0.3428 - accuracy: 0.8417\n",
      "Epoch 132/150\n",
      "62/62 [==============================] - 0s 2ms/step - loss: 0.3562 - accuracy: 0.8249\n",
      "Epoch 133/150\n",
      "62/62 [==============================] - 0s 2ms/step - loss: 0.3549 - accuracy: 0.8230\n",
      "Epoch 134/150\n",
      "62/62 [==============================] - 0s 2ms/step - loss: 0.3333 - accuracy: 0.8501\n",
      "Epoch 135/150\n",
      "62/62 [==============================] - 0s 2ms/step - loss: 0.3436 - accuracy: 0.8333\n",
      "Epoch 136/150\n",
      "62/62 [==============================] - 0s 1ms/step - loss: 0.3814 - accuracy: 0.8114\n",
      "Epoch 137/150\n",
      "62/62 [==============================] - 0s 1ms/step - loss: 0.3814 - accuracy: 0.7962\n",
      "Epoch 138/150\n",
      "62/62 [==============================] - 0s 2ms/step - loss: 0.3801 - accuracy: 0.7902\n",
      "Epoch 139/150\n",
      "62/62 [==============================] - 0s 1ms/step - loss: 0.3674 - accuracy: 0.8212\n",
      "Epoch 140/150\n",
      "62/62 [==============================] - 0s 2ms/step - loss: 0.3636 - accuracy: 0.7988\n",
      "Epoch 141/150\n",
      "62/62 [==============================] - 0s 2ms/step - loss: 0.3512 - accuracy: 0.8318\n",
      "Epoch 142/150\n",
      "62/62 [==============================] - 0s 1ms/step - loss: 0.3293 - accuracy: 0.8368\n",
      "Epoch 143/150\n",
      "62/62 [==============================] - 0s 1ms/step - loss: 0.3541 - accuracy: 0.8217\n",
      "Epoch 144/150\n",
      "62/62 [==============================] - 0s 1ms/step - loss: 0.3423 - accuracy: 0.8207\n",
      "Epoch 145/150\n",
      "62/62 [==============================] - 0s 1ms/step - loss: 0.3420 - accuracy: 0.8400\n",
      "Epoch 146/150\n",
      "62/62 [==============================] - 0s 2ms/step - loss: 0.3329 - accuracy: 0.8511\n",
      "Epoch 147/150\n",
      "62/62 [==============================] - 0s 2ms/step - loss: 0.3234 - accuracy: 0.8496\n",
      "Epoch 148/150\n",
      "62/62 [==============================] - 0s 2ms/step - loss: 0.3910 - accuracy: 0.8148\n",
      "Epoch 149/150\n",
      "62/62 [==============================] - 0s 2ms/step - loss: 0.3198 - accuracy: 0.8581\n",
      "Epoch 150/150\n",
      "62/62 [==============================] - 0s 2ms/step - loss: 0.3253 - accuracy: 0.8415\n"
     ]
    },
    {
     "data": {
      "text/plain": [
       "<tensorflow.python.keras.callbacks.History at 0x1ea212a2a00>"
      ]
     },
     "execution_count": 24,
     "metadata": {},
     "output_type": "execute_result"
    }
   ],
   "source": [
    "# training\n",
    "model.fit(X_train, y_train, epochs=150, batch_size=10)"
   ]
  },
  {
   "cell_type": "markdown",
   "metadata": {},
   "source": [
    "**7.Compute the accuracy and confusion matrix.**"
   ]
  },
  {
   "cell_type": "code",
   "execution_count": 28,
   "metadata": {},
   "outputs": [],
   "source": [
    "#Prediction\n",
    "y_pred = model.predict(X_test)\n",
    "y_pred=(y_pred>0.5)"
   ]
  },
  {
   "cell_type": "code",
   "execution_count": 29,
   "metadata": {},
   "outputs": [
    {
     "name": "stdout",
     "output_type": "stream",
     "text": [
      "Model Accuracy: 68.83116883116884\n"
     ]
    }
   ],
   "source": [
    "#Model Accuracy\n",
    "from sklearn.metrics import accuracy_score\n",
    "acc = accuracy_score(y_test, y_pred)\n",
    "print(\"Model Accuracy:\", acc*100)"
   ]
  },
  {
   "cell_type": "code",
   "execution_count": 30,
   "metadata": {},
   "outputs": [
    {
     "data": {
      "text/plain": [
       "array([[73, 26],\n",
       "       [22, 33]], dtype=int64)"
      ]
     },
     "execution_count": 30,
     "metadata": {},
     "output_type": "execute_result"
    }
   ],
   "source": [
    "#Confusion matrix\n",
    "from sklearn.metrics import confusion_matrix\n",
    "conf_mat = confusion_matrix(y_test, y_pred)\n",
    "conf_mat"
   ]
  }
 ],
 "metadata": {
  "kernelspec": {
   "display_name": "Python 3",
   "language": "python",
   "name": "python3"
  },
  "language_info": {
   "codemirror_mode": {
    "name": "ipython",
    "version": 3
   },
   "file_extension": ".py",
   "mimetype": "text/x-python",
   "name": "python",
   "nbconvert_exporter": "python",
   "pygments_lexer": "ipython3",
   "version": "3.8.5"
  }
 },
 "nbformat": 4,
 "nbformat_minor": 4
}
